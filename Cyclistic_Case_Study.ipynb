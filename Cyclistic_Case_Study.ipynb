{
  "nbformat": 4,
  "nbformat_minor": 0,
  "metadata": {
    "colab": {
      "name": "Cyclistic Case Study.ipynb",
      "provenance": [],
      "collapsed_sections": [],
      "mount_file_id": "1gGwnM4s-VFQzGMgYTOcJfAvzmIyZ1X3T",
      "authorship_tag": "ABX9TyOPpb+rvlGWlDH8ZxCAtUMG",
      "include_colab_link": true
    },
    "kernelspec": {
      "name": "python3",
      "display_name": "Python 3"
    },
    "language_info": {
      "name": "python"
    }
  },
  "cells": [
    {
      "cell_type": "markdown",
      "metadata": {
        "id": "view-in-github",
        "colab_type": "text"
      },
      "source": [
        "<a href=\"https://colab.research.google.com/github/richie-omondi/Cyclistic-Case-Study/blob/main/Cyclistic_Case_Study.ipynb\" target=\"_parent\"><img src=\"https://colab.research.google.com/assets/colab-badge.svg\" alt=\"Open In Colab\"/></a>"
      ]
    },
    {
      "cell_type": "markdown",
      "source": [
        "## Scenario\n",
        "\n",
        "You are a junior data analyst working in the marketing analyst team at Cyclistic, a bike-share company in Chicago. The director\n",
        "of marketing believes the company’s future success depends on maximizing the number of annual memberships. Therefore,\n",
        "your team wants to understand how casual riders and annual members use Cyclistic bikes differently. From these insights,\n",
        "your team will design a new marketing strategy to convert casual riders into annual members. But first, Cyclistic executives\n",
        "must approve your recommendations, so they must be backed up with compelling data insights and professional data\n",
        "visualizations"
      ],
      "metadata": {
        "id": "_LEnIgAYGDh4"
      }
    },
    {
      "cell_type": "markdown",
      "source": [
        "## About The Company\n",
        "\n",
        "In 2016, Cyclistic launched a successful bike-share offering. Since then, the program has grown to a fleet of 5,824 bicycles that\n",
        "are geotracked and locked into a network of 692 stations across Chicago. The bikes can be unlocked from one station and\n",
        "returned to any other station in the system anytime.\n",
        "\n",
        "Until now, Cyclistic’s marketing strategy relied on building general awareness and appealing to broad consumer segments.\n",
        "\n",
        "One approach that helped make these things possible was the flexibility of its pricing plans: single-ride passes, full-day passes,\n",
        "and annual memberships. Customers who purchase single-ride or full-day passes are referred to as casual riders. Customers\n",
        "who purchase annual memberships are Cyclistic members.\n",
        "\n",
        "Cyclistic’s finance analysts have concluded that annual members are much more profitable than casual riders. Although the\n",
        "pricing flexibility helps Cyclistic attract more customers, Moreno believes that maximizing the number of annual members will\n",
        "be key to future growth. Rather than creating a marketing campaign that targets all-new customers, Moreno believes there is a\n",
        "very good chance to convert casual riders into members. She notes that casual riders are already aware of the Cyclistic\n",
        "program and have chosen Cyclistic for their mobility needs.\n",
        "\n",
        "Moreno has set a clear goal: **Design marketing strategies aimed at converting casual riders into annual members**. In order to\n",
        "do that, however, the marketing analyst team needs to better understand how annual members and casual riders differ, why\n",
        "casual riders would buy a membership, and how digital media could affect their marketing tactics. Moreno and her team are\n",
        "interested in analyzing the Cyclistic historical bike trip data to identify trends"
      ],
      "metadata": {
        "id": "c8qQGYJoGk71"
      }
    },
    {
      "cell_type": "markdown",
      "source": [
        "## Key Stakeholders\n",
        "\n",
        "● **Lily Moreno**: The director of marketing and your manager. Moreno is responsible for the development of campaigns\n",
        "and initiatives to promote the bike-share program. These may include email, social media, and other channels.\n",
        "\n",
        "● **Cyclistic marketing analytics team**: A team of data analysts who are responsible for collecting, analyzing, and\n",
        "reporting data that helps guide Cyclistic marketing strategy.\n",
        "\n",
        "● **Cyclistic executive team**: The notoriously detail-oriented executive team will decide whether to approve the\n",
        "recommended marketing program\n"
      ],
      "metadata": {
        "id": "SAPrmp_HHONB"
      }
    },
    {
      "cell_type": "markdown",
      "source": [
        "## The Datasets\n",
        "\n",
        "The datasets used are Cyclistic’s historical trip data to analyze and identify trends. \n",
        "\n",
        "**Note**: The datasets have a different name because Cyclistic is a fictional company. For the purposes of this case study, the datasets are appropriate and will enable you to answer the business questions. The data has been made available by Motivate International Inc. under this [license](https://ride.divvybikes.com/data-license-agreement)\n",
        "This is public data that you can use to explore how different customer types are using Cyclistic bikes. Link to the datasets is [here](https://divvy-tripdata.s3.amazonaws.com/index.html)\n",
        "\n",
        "I downloaded data between April 2021 - Aril 2022"
      ],
      "metadata": {
        "id": "nyCXy5hwHn5B"
      }
    },
    {
      "cell_type": "markdown",
      "source": [
        "Once downloaded and unzipped you should have a total of 12 CSV files. Nothing needs to be done from here onwards on any spreadsheet software since we will be using 'R' programming language to handle the datasets. We'll be using 'R' because the dataset is simply too large and puts a lot of strain on spreadsheet softwares like Excel and Google Sheets"
      ],
      "metadata": {
        "id": "myPzmnRJNmzq"
      }
    },
    {
      "cell_type": "markdown",
      "source": [
        "We need to make sure we can run R code in this notebook"
      ],
      "metadata": {
        "id": "HCqV9uxoSZFg"
      }
    },
    {
      "cell_type": "code",
      "source": [
        "%load_ext rpy2.ipython"
      ],
      "metadata": {
        "id": "lgK8eP5pQaTg"
      },
      "execution_count": 1,
      "outputs": []
    },
    {
      "cell_type": "markdown",
      "source": [
        "Let's load the data"
      ],
      "metadata": {
        "id": "gw_2enZNXaWA"
      }
    },
    {
      "cell_type": "code",
      "source": [
        "%%R\n",
        "\n",
        "Apr_2021 <- read.csv(\"/content/drive/MyDrive/202104-divvy-tripdata.csv\")\n",
        "May_2021 <- read.csv(\"/content/drive/MyDrive/202105-divvy-tripdata.csv\")\n",
        "Jun_2021 <- read.csv(\"/content/drive/MyDrive/202106-divvy-tripdata.csv\")\n",
        "Jul_2021 <- read.csv(\"/content/drive/MyDrive/202107-divvy-tripdata.csv\")\n",
        "Aug_2021 <- read.csv(\"/content/drive/MyDrive/202108-divvy-tripdata.csv\")\n",
        "Sep_2021 <- read.csv(\"/content/drive/MyDrive/202109-divvy-tripdata.csv\")\n",
        "Oct_2021 <- read.csv(\"/content/drive/MyDrive/202110-divvy-tripdata.csv\")\n",
        "Nov_2021 <- read.csv(\"/content/drive/MyDrive/202111-divvy-tripdata.csv\")\n",
        "Dec_2021 <- read.csv(\"/content/drive/MyDrive/202112-divvy-tripdata.csv\")\n",
        "Jan_2022 <- read.csv(\"/content/drive/MyDrive/202201-divvy-tripdata.csv\")\n",
        "Feb_2022 <- read.csv(\"/content/drive/MyDrive/202202-divvy-tripdata.csv\")\n",
        "Mar_2022 <- read.csv(\"/content/drive/MyDrive/202203-divvy-tripdata.csv\")\n",
        "Apr_2022 <- read.csv(\"/content/drive/MyDrive/202204-divvy-tripdata.csv\")\n"
      ],
      "metadata": {
        "id": "s9YwHnFqSguS"
      },
      "execution_count": 5,
      "outputs": []
    },
    {
      "cell_type": "markdown",
      "source": [
        "Install the necessary packages"
      ],
      "metadata": {
        "id": "NfvSmSDiXex1"
      }
    },
    {
      "cell_type": "code",
      "source": [
        "%%R\n",
        "\n",
        "library(tidyverse)\n",
        "library(lubridate)\n",
        "library(ggplot2)"
      ],
      "metadata": {
        "id": "YCUESXDXV7me"
      },
      "execution_count": 7,
      "outputs": []
    },
    {
      "cell_type": "markdown",
      "source": [
        "Check for consistency across column names"
      ],
      "metadata": {
        "id": "icVAZzncXim5"
      }
    },
    {
      "cell_type": "code",
      "source": [
        "%%R\n",
        "\n",
        "colnames(Apr_2021)\n",
        "colnames(May_2021)\n",
        "colnames(Jun_2021)\n",
        "colnames(Jul_2021)\n",
        "colnames(Aug_2021)\n",
        "colnames(Sep_2021)\n",
        "colnames(Oct_2021)\n",
        "colnames(Nov_2021)\n",
        "colnames(Dec_2021)\n",
        "colnames(Jan_2022)\n",
        "colnames(Feb_2022)\n",
        "colnames(Mar_2022)\n",
        "colnames(Apr_2022)"
      ],
      "metadata": {
        "colab": {
          "base_uri": "https://localhost:8080/"
        },
        "id": "CZHe7oeGWiJl",
        "outputId": "5f2324e8-457d-4b3b-b8c3-7ecf6ad07bf7"
      },
      "execution_count": 8,
      "outputs": [
        {
          "output_type": "stream",
          "name": "stdout",
          "text": [
            " [1] \"ride_id\"            \"rideable_type\"      \"started_at\"        \n",
            " [4] \"ended_at\"           \"start_station_name\" \"start_station_id\"  \n",
            " [7] \"end_station_name\"   \"end_station_id\"     \"start_lat\"         \n",
            "[10] \"start_lng\"          \"end_lat\"            \"end_lng\"           \n",
            "[13] \"member_casual\"     \n"
          ]
        }
      ]
    },
    {
      "cell_type": "markdown",
      "source": [
        "Looks like we have consistent column names"
      ],
      "metadata": {
        "id": "Y2ZUPotMXy4l"
      }
    },
    {
      "cell_type": "markdown",
      "source": [
        "Analyze each dataset with the `str` function to see if all columns have the same vector formatting."
      ],
      "metadata": {
        "id": "aFEJzrQsYWU8"
      }
    },
    {
      "cell_type": "code",
      "source": [
        "%%R\n",
        "\n",
        "str(Apr_2021)\n",
        "str(May_2021)\n",
        "str(Jun_2021)\n",
        "str(Jul_2021)\n",
        "str(Aug_2021)\n",
        "str(Sep_2021)\n",
        "str(Oct_2021)\n",
        "str(Nov_2021)\n",
        "str(Dec_2021)\n",
        "str(Jan_2022)\n",
        "str(Feb_2022)\n",
        "str(Mar_2022)\n",
        "str(Apr_2022)"
      ],
      "metadata": {
        "colab": {
          "base_uri": "https://localhost:8080/"
        },
        "id": "C4iaeI3HYdHI",
        "outputId": "4ee16721-f018-4bdc-8192-a02d1df106e6"
      },
      "execution_count": 9,
      "outputs": [
        {
          "output_type": "stream",
          "name": "stdout",
          "text": [
            "'data.frame':\t337230 obs. of  13 variables:\n",
            " $ ride_id           : chr  \"6C992BD37A98A63F\" \"1E0145613A209000\" \"E498E15508A80BAD\" \"1887262AD101C604\" ...\n",
            " $ rideable_type     : chr  \"classic_bike\" \"docked_bike\" \"docked_bike\" \"classic_bike\" ...\n",
            " $ started_at        : chr  \"2021-04-12 18:25:36\" \"2021-04-27 17:27:11\" \"2021-04-03 12:42:45\" \"2021-04-17 09:17:42\" ...\n",
            " $ ended_at          : chr  \"2021-04-12 18:56:55\" \"2021-04-27 18:31:29\" \"2021-04-07 11:40:24\" \"2021-04-17 09:42:48\" ...\n",
            " $ start_station_name: chr  \"State St & Pearson St\" \"Dorchester Ave & 49th St\" \"Loomis Blvd & 84th St\" \"Honore St & Division St\" ...\n",
            " $ start_station_id  : chr  \"TA1307000061\" \"KA1503000069\" \"20121\" \"TA1305000034\" ...\n",
            " $ end_station_name  : chr  \"Southport Ave & Waveland Ave\" \"Dorchester Ave & 49th St\" \"Loomis Blvd & 84th St\" \"Southport Ave & Waveland Ave\" ...\n",
            " $ end_station_id    : chr  \"13235\" \"KA1503000069\" \"20121\" \"13235\" ...\n",
            " $ start_lat         : num  41.9 41.8 41.7 41.9 41.7 ...\n",
            " $ start_lng         : num  -87.6 -87.6 -87.7 -87.7 -87.7 ...\n",
            " $ end_lat           : num  41.9 41.8 41.7 41.9 41.7 ...\n",
            " $ end_lng           : num  -87.7 -87.6 -87.7 -87.7 -87.7 ...\n",
            " $ member_casual     : chr  \"member\" \"casual\" \"casual\" \"member\" ...\n",
            "'data.frame':\t531633 obs. of  13 variables:\n",
            " $ ride_id           : chr  \"C809ED75D6160B2A\" \"DD59FDCE0ACACAF3\" \"0AB83CB88C43EFC2\" \"7881AC6D39110C60\" ...\n",
            " $ rideable_type     : chr  \"electric_bike\" \"electric_bike\" \"electric_bike\" \"electric_bike\" ...\n",
            " $ started_at        : chr  \"2021-05-30 11:58:15\" \"2021-05-30 11:29:14\" \"2021-05-30 14:24:01\" \"2021-05-30 14:25:51\" ...\n",
            " $ ended_at          : chr  \"2021-05-30 12:10:39\" \"2021-05-30 12:14:09\" \"2021-05-30 14:25:13\" \"2021-05-30 14:41:04\" ...\n",
            " $ start_station_name: chr  \"\" \"\" \"\" \"\" ...\n",
            " $ start_station_id  : chr  \"\" \"\" \"\" \"\" ...\n",
            " $ end_station_name  : chr  \"\" \"\" \"\" \"\" ...\n",
            " $ end_station_id    : chr  \"\" \"\" \"\" \"\" ...\n",
            " $ start_lat         : num  41.9 41.9 41.9 41.9 41.9 ...\n",
            " $ start_lng         : num  -87.6 -87.6 -87.7 -87.7 -87.7 ...\n",
            " $ end_lat           : num  41.9 41.8 41.9 41.9 41.9 ...\n",
            " $ end_lng           : num  -87.6 -87.6 -87.7 -87.7 -87.7 ...\n",
            " $ member_casual     : chr  \"casual\" \"casual\" \"casual\" \"casual\" ...\n",
            "'data.frame':\t729595 obs. of  13 variables:\n",
            " $ ride_id           : chr  \"99FEC93BA843FB20\" \"06048DCFC8520CAF\" \"9598066F68045DF2\" \"B03C0FE48C412214\" ...\n",
            " $ rideable_type     : chr  \"electric_bike\" \"electric_bike\" \"electric_bike\" \"electric_bike\" ...\n",
            " $ started_at        : chr  \"2021-06-13 14:31:28\" \"2021-06-04 11:18:02\" \"2021-06-04 09:49:35\" \"2021-06-03 19:56:05\" ...\n",
            " $ ended_at          : chr  \"2021-06-13 14:34:11\" \"2021-06-04 11:24:19\" \"2021-06-04 09:55:34\" \"2021-06-03 20:21:55\" ...\n",
            " $ start_station_name: chr  \"\" \"\" \"\" \"\" ...\n",
            " $ start_station_id  : chr  \"\" \"\" \"\" \"\" ...\n",
            " $ end_station_name  : chr  \"\" \"\" \"\" \"\" ...\n",
            " $ end_station_id    : chr  \"\" \"\" \"\" \"\" ...\n",
            " $ start_lat         : num  41.8 41.8 41.8 41.8 41.8 ...\n",
            " $ start_lng         : num  -87.6 -87.6 -87.6 -87.6 -87.6 ...\n",
            " $ end_lat           : num  41.8 41.8 41.8 41.8 41.8 ...\n",
            " $ end_lng           : num  -87.6 -87.6 -87.6 -87.6 -87.6 ...\n",
            " $ member_casual     : chr  \"member\" \"member\" \"member\" \"member\" ...\n",
            "'data.frame':\t822410 obs. of  13 variables:\n",
            " $ ride_id           : chr  \"0A1B623926EF4E16\" \"B2D5583A5A5E76EE\" \"6F264597DDBF427A\" \"379B58EAB20E8AA5\" ...\n",
            " $ rideable_type     : chr  \"docked_bike\" \"classic_bike\" \"classic_bike\" \"classic_bike\" ...\n",
            " $ started_at        : chr  \"2021-07-02 14:44:36\" \"2021-07-07 16:57:42\" \"2021-07-25 11:30:55\" \"2021-07-08 22:08:30\" ...\n",
            " $ ended_at          : chr  \"2021-07-02 15:19:58\" \"2021-07-07 17:16:09\" \"2021-07-25 11:48:45\" \"2021-07-08 22:23:32\" ...\n",
            " $ start_station_name: chr  \"Michigan Ave & Washington St\" \"California Ave & Cortez St\" \"Wabash Ave & 16th St\" \"California Ave & Cortez St\" ...\n",
            " $ start_station_id  : chr  \"13001\" \"17660\" \"SL-012\" \"17660\" ...\n",
            " $ end_station_name  : chr  \"Halsted St & North Branch St\" \"Wood St & Hubbard St\" \"Rush St & Hubbard St\" \"Carpenter St & Huron St\" ...\n",
            " $ end_station_id    : chr  \"KA1504000117\" \"13432\" \"KA1503000044\" \"13196\" ...\n",
            " $ start_lat         : num  41.9 41.9 41.9 41.9 41.9 ...\n",
            " $ start_lng         : num  -87.6 -87.7 -87.6 -87.7 -87.7 ...\n",
            " $ end_lat           : num  41.9 41.9 41.9 41.9 41.9 ...\n",
            " $ end_lng           : num  -87.6 -87.7 -87.6 -87.7 -87.7 ...\n",
            " $ member_casual     : chr  \"casual\" \"casual\" \"member\" \"member\" ...\n",
            "'data.frame':\t804352 obs. of  13 variables:\n",
            " $ ride_id           : chr  \"99103BB87CC6C1BB\" \"EAFCCCFB0A3FC5A1\" \"9EF4F46C57AD234D\" \"5834D3208BFAF1DA\" ...\n",
            " $ rideable_type     : chr  \"electric_bike\" \"electric_bike\" \"electric_bike\" \"electric_bike\" ...\n",
            " $ started_at        : chr  \"2021-08-10 17:15:49\" \"2021-08-10 17:23:14\" \"2021-08-21 02:34:23\" \"2021-08-21 06:52:55\" ...\n",
            " $ ended_at          : chr  \"2021-08-10 17:22:44\" \"2021-08-10 17:39:24\" \"2021-08-21 02:50:36\" \"2021-08-21 07:08:13\" ...\n",
            " $ start_station_name: chr  \"\" \"\" \"\" \"\" ...\n",
            " $ start_station_id  : chr  \"\" \"\" \"\" \"\" ...\n",
            " $ end_station_name  : chr  \"\" \"\" \"\" \"\" ...\n",
            " $ end_station_id    : chr  \"\" \"\" \"\" \"\" ...\n",
            " $ start_lat         : num  41.8 41.8 42 42 41.8 ...\n",
            " $ start_lng         : num  -87.7 -87.7 -87.7 -87.7 -87.6 ...\n",
            " $ end_lat           : num  41.8 41.8 42 42 41.8 ...\n",
            " $ end_lng           : num  -87.7 -87.6 -87.7 -87.7 -87.6 ...\n",
            " $ member_casual     : chr  \"member\" \"member\" \"member\" \"member\" ...\n",
            "'data.frame':\t756147 obs. of  13 variables:\n",
            " $ ride_id           : chr  \"9DC7B962304CBFD8\" \"F930E2C6872D6B32\" \"6EF72137900BB910\" \"78D1DE133B3DBF55\" ...\n",
            " $ rideable_type     : chr  \"electric_bike\" \"electric_bike\" \"electric_bike\" \"electric_bike\" ...\n",
            " $ started_at        : chr  \"2021-09-28 16:07:10\" \"2021-09-28 14:24:51\" \"2021-09-28 00:20:16\" \"2021-09-28 14:51:17\" ...\n",
            " $ ended_at          : chr  \"2021-09-28 16:09:54\" \"2021-09-28 14:40:05\" \"2021-09-28 00:23:57\" \"2021-09-28 15:00:06\" ...\n",
            " $ start_station_name: chr  \"\" \"\" \"\" \"\" ...\n",
            " $ start_station_id  : chr  \"\" \"\" \"\" \"\" ...\n",
            " $ end_station_name  : chr  \"\" \"\" \"\" \"\" ...\n",
            " $ end_station_id    : chr  \"\" \"\" \"\" \"\" ...\n",
            " $ start_lat         : num  41.9 41.9 41.8 41.8 41.9 ...\n",
            " $ start_lng         : num  -87.7 -87.6 -87.7 -87.7 -87.7 ...\n",
            " $ end_lat           : num  41.9 42 41.8 41.8 41.9 ...\n",
            " $ end_lng           : num  -87.7 -87.7 -87.7 -87.7 -87.7 ...\n",
            " $ member_casual     : chr  \"casual\" \"casual\" \"casual\" \"casual\" ...\n",
            "'data.frame':\t631226 obs. of  13 variables:\n",
            " $ ride_id           : chr  \"620BC6107255BF4C\" \"4471C70731AB2E45\" \"26CA69D43D15EE14\" \"362947F0437E1514\" ...\n",
            " $ rideable_type     : chr  \"electric_bike\" \"electric_bike\" \"electric_bike\" \"electric_bike\" ...\n",
            " $ started_at        : chr  \"2021-10-22 12:46:42\" \"2021-10-21 09:12:37\" \"2021-10-16 16:28:39\" \"2021-10-16 16:17:48\" ...\n",
            " $ ended_at          : chr  \"2021-10-22 12:49:50\" \"2021-10-21 09:14:14\" \"2021-10-16 16:36:26\" \"2021-10-16 16:19:03\" ...\n",
            " $ start_station_name: chr  \"Kingsbury St & Kinzie St\" \"\" \"\" \"\" ...\n",
            " $ start_station_id  : chr  \"KA1503000043\" \"\" \"\" \"\" ...\n",
            " $ end_station_name  : chr  \"\" \"\" \"\" \"\" ...\n",
            " $ end_station_id    : chr  \"\" \"\" \"\" \"\" ...\n",
            " $ start_lat         : num  41.9 41.9 41.9 41.9 41.9 ...\n",
            " $ start_lng         : num  -87.6 -87.7 -87.7 -87.7 -87.7 ...\n",
            " $ end_lat           : num  41.9 41.9 41.9 41.9 41.9 ...\n",
            " $ end_lng           : num  -87.6 -87.7 -87.7 -87.7 -87.7 ...\n",
            " $ member_casual     : chr  \"member\" \"member\" \"member\" \"member\" ...\n",
            "'data.frame':\t359978 obs. of  13 variables:\n",
            " $ ride_id           : chr  \"7C00A93E10556E47\" \"90854840DFD508BA\" \"0A7D10CDD144061C\" \"2F3BE33085BCFF02\" ...\n",
            " $ rideable_type     : chr  \"electric_bike\" \"electric_bike\" \"electric_bike\" \"electric_bike\" ...\n",
            " $ started_at        : chr  \"2021-11-27 13:27:38\" \"2021-11-27 13:38:25\" \"2021-11-26 22:03:34\" \"2021-11-27 09:56:49\" ...\n",
            " $ ended_at          : chr  \"2021-11-27 13:46:38\" \"2021-11-27 13:56:10\" \"2021-11-26 22:05:56\" \"2021-11-27 10:01:50\" ...\n",
            " $ start_station_name: chr  \"\" \"\" \"\" \"\" ...\n",
            " $ start_station_id  : chr  \"\" \"\" \"\" \"\" ...\n",
            " $ end_station_name  : chr  \"\" \"\" \"\" \"\" ...\n",
            " $ end_station_id    : chr  \"\" \"\" \"\" \"\" ...\n",
            " $ start_lat         : num  41.9 42 42 41.9 41.9 ...\n",
            " $ start_lng         : num  -87.7 -87.7 -87.7 -87.8 -87.6 ...\n",
            " $ end_lat           : num  42 41.9 42 41.9 41.9 ...\n",
            " $ end_lng           : num  -87.7 -87.7 -87.7 -87.8 -87.6 ...\n",
            " $ member_casual     : chr  \"casual\" \"casual\" \"casual\" \"casual\" ...\n",
            "'data.frame':\t247540 obs. of  13 variables:\n",
            " $ ride_id           : chr  \"46F8167220E4431F\" \"73A77762838B32FD\" \"4CF42452054F59C5\" \"3278BA87BF698339\" ...\n",
            " $ rideable_type     : chr  \"electric_bike\" \"electric_bike\" \"electric_bike\" \"classic_bike\" ...\n",
            " $ started_at        : chr  \"2021-12-07 15:06:07\" \"2021-12-11 03:43:29\" \"2021-12-15 23:10:28\" \"2021-12-26 16:16:10\" ...\n",
            " $ ended_at          : chr  \"2021-12-07 15:13:42\" \"2021-12-11 04:10:23\" \"2021-12-15 23:23:14\" \"2021-12-26 16:30:53\" ...\n",
            " $ start_station_name: chr  \"Laflin St & Cullerton St\" \"LaSalle Dr & Huron St\" \"Halsted St & North Branch St\" \"Halsted St & North Branch St\" ...\n",
            " $ start_station_id  : chr  \"13307\" \"KP1705001026\" \"KA1504000117\" \"KA1504000117\" ...\n",
            " $ end_station_name  : chr  \"Morgan St & Polk St\" \"Clarendon Ave & Leland Ave\" \"Broadway & Barry Ave\" \"LaSalle Dr & Huron St\" ...\n",
            " $ end_station_id    : chr  \"TA1307000130\" \"TA1307000119\" \"13137\" \"KP1705001026\" ...\n",
            " $ start_lat         : num  41.9 41.9 41.9 41.9 41.9 ...\n",
            " $ start_lng         : num  -87.7 -87.6 -87.6 -87.6 -87.7 ...\n",
            " $ end_lat           : num  41.9 42 41.9 41.9 41.9 ...\n",
            " $ end_lng           : num  -87.7 -87.7 -87.6 -87.6 -87.6 ...\n",
            " $ member_casual     : chr  \"member\" \"casual\" \"member\" \"member\" ...\n",
            "'data.frame':\t103770 obs. of  13 variables:\n",
            " $ ride_id           : chr  \"C2F7DD78E82EC875\" \"A6CF8980A652D272\" \"BD0F91DFF741C66D\" \"CBB80ED419105406\" ...\n",
            " $ rideable_type     : chr  \"electric_bike\" \"electric_bike\" \"classic_bike\" \"classic_bike\" ...\n",
            " $ started_at        : chr  \"2022-01-13 11:59:47\" \"2022-01-10 08:41:56\" \"2022-01-25 04:53:40\" \"2022-01-04 00:18:04\" ...\n",
            " $ ended_at          : chr  \"2022-01-13 12:02:44\" \"2022-01-10 08:46:17\" \"2022-01-25 04:58:01\" \"2022-01-04 00:33:00\" ...\n",
            " $ start_station_name: chr  \"Glenwood Ave & Touhy Ave\" \"Glenwood Ave & Touhy Ave\" \"Sheffield Ave & Fullerton Ave\" \"Clark St & Bryn Mawr Ave\" ...\n",
            " $ start_station_id  : chr  \"525\" \"525\" \"TA1306000016\" \"KA1504000151\" ...\n",
            " $ end_station_name  : chr  \"Clark St & Touhy Ave\" \"Clark St & Touhy Ave\" \"Greenview Ave & Fullerton Ave\" \"Paulina St & Montrose Ave\" ...\n",
            " $ end_station_id    : chr  \"RP-007\" \"RP-007\" \"TA1307000001\" \"TA1309000021\" ...\n",
            " $ start_lat         : num  42 42 41.9 42 41.9 ...\n",
            " $ start_lng         : num  -87.7 -87.7 -87.7 -87.7 -87.6 ...\n",
            " $ end_lat           : num  42 42 41.9 42 41.9 ...\n",
            " $ end_lng           : num  -87.7 -87.7 -87.7 -87.7 -87.6 ...\n",
            " $ member_casual     : chr  \"casual\" \"casual\" \"member\" \"casual\" ...\n",
            "'data.frame':\t115609 obs. of  13 variables:\n",
            " $ ride_id           : chr  \"E1E065E7ED285C02\" \"1602DCDC5B30FFE3\" \"BE7DD2AF4B55C4AF\" \"A1789BDF844412BE\" ...\n",
            " $ rideable_type     : chr  \"classic_bike\" \"classic_bike\" \"classic_bike\" \"classic_bike\" ...\n",
            " $ started_at        : chr  \"2022-02-19 18:08:41\" \"2022-02-20 17:41:30\" \"2022-02-25 18:55:56\" \"2022-02-14 11:57:03\" ...\n",
            " $ ended_at          : chr  \"2022-02-19 18:23:56\" \"2022-02-20 17:45:56\" \"2022-02-25 19:09:34\" \"2022-02-14 12:04:00\" ...\n",
            " $ start_station_name: chr  \"State St & Randolph St\" \"Halsted St & Wrightwood Ave\" \"State St & Randolph St\" \"Southport Ave & Waveland Ave\" ...\n",
            " $ start_station_id  : chr  \"TA1305000029\" \"TA1309000061\" \"TA1305000029\" \"13235\" ...\n",
            " $ end_station_name  : chr  \"Clark St & Lincoln Ave\" \"Southport Ave & Wrightwood Ave\" \"Canal St & Adams St\" \"Broadway & Sheridan Rd\" ...\n",
            " $ end_station_id    : chr  \"13179\" \"TA1307000113\" \"13011\" \"13323\" ...\n",
            " $ start_lat         : num  41.9 41.9 41.9 41.9 41.9 ...\n",
            " $ start_lng         : num  -87.6 -87.6 -87.6 -87.7 -87.6 ...\n",
            " $ end_lat           : num  41.9 41.9 41.9 42 41.9 ...\n",
            " $ end_lng           : num  -87.6 -87.7 -87.6 -87.6 -87.6 ...\n",
            " $ member_casual     : chr  \"member\" \"member\" \"member\" \"member\" ...\n",
            "'data.frame':\t284042 obs. of  13 variables:\n",
            " $ ride_id           : chr  \"47EC0A7F82E65D52\" \"8494861979B0F477\" \"EFE527AF80B66109\" \"9F446FD9DEE3F389\" ...\n",
            " $ rideable_type     : chr  \"classic_bike\" \"electric_bike\" \"classic_bike\" \"classic_bike\" ...\n",
            " $ started_at        : chr  \"2022-03-21 13:45:01\" \"2022-03-16 09:37:16\" \"2022-03-23 19:52:02\" \"2022-03-01 19:12:26\" ...\n",
            " $ ended_at          : chr  \"2022-03-21 13:51:18\" \"2022-03-16 09:43:34\" \"2022-03-23 19:54:48\" \"2022-03-01 19:22:14\" ...\n",
            " $ start_station_name: chr  \"Wabash Ave & Wacker Pl\" \"Michigan Ave & Oak St\" \"Broadway & Berwyn Ave\" \"Wabash Ave & Wacker Pl\" ...\n",
            " $ start_station_id  : chr  \"TA1307000131\" \"13042\" \"13109\" \"TA1307000131\" ...\n",
            " $ end_station_name  : chr  \"Kingsbury St & Kinzie St\" \"Orleans St & Chestnut St (NEXT Apts)\" \"Broadway & Ridge Ave\" \"Franklin St & Jackson Blvd\" ...\n",
            " $ end_station_id    : chr  \"KA1503000043\" \"620\" \"15578\" \"TA1305000025\" ...\n",
            " $ start_lat         : num  41.9 41.9 42 41.9 41.9 ...\n",
            " $ start_lng         : num  -87.6 -87.6 -87.7 -87.6 -87.6 ...\n",
            " $ end_lat           : num  41.9 41.9 42 41.9 41.9 ...\n",
            " $ end_lng           : num  -87.6 -87.6 -87.7 -87.6 -87.7 ...\n",
            " $ member_casual     : chr  \"member\" \"member\" \"member\" \"member\" ...\n",
            "'data.frame':\t371249 obs. of  13 variables:\n",
            " $ ride_id           : chr  \"3564070EEFD12711\" \"0B820C7FCF22F489\" \"89EEEE32293F07FF\" \"84D4751AEB31888D\" ...\n",
            " $ rideable_type     : chr  \"electric_bike\" \"classic_bike\" \"classic_bike\" \"classic_bike\" ...\n",
            " $ started_at        : chr  \"2022-04-06 17:42:48\" \"2022-04-24 19:23:07\" \"2022-04-20 19:29:08\" \"2022-04-22 21:14:06\" ...\n",
            " $ ended_at          : chr  \"2022-04-06 17:54:36\" \"2022-04-24 19:43:17\" \"2022-04-20 19:35:16\" \"2022-04-22 21:23:29\" ...\n",
            " $ start_station_name: chr  \"Paulina St & Howard St\" \"Wentworth Ave & Cermak Rd\" \"Halsted St & Polk St\" \"Wentworth Ave & Cermak Rd\" ...\n",
            " $ start_station_id  : chr  \"515\" \"13075\" \"TA1307000121\" \"13075\" ...\n",
            " $ end_station_name  : chr  \"University Library (NU)\" \"Green St & Madison St\" \"Green St & Madison St\" \"Delano Ct & Roosevelt Rd\" ...\n",
            " $ end_station_id    : chr  \"605\" \"TA1307000120\" \"TA1307000120\" \"KA1706005007\" ...\n",
            " $ start_lat         : num  42 41.9 41.9 41.9 41.9 ...\n",
            " $ start_lng         : num  -87.7 -87.6 -87.6 -87.6 -87.6 ...\n",
            " $ end_lat           : num  42.1 41.9 41.9 41.9 41.9 ...\n",
            " $ end_lng           : num  -87.7 -87.6 -87.6 -87.6 -87.6 ...\n",
            " $ member_casual     : chr  \"member\" \"member\" \"member\" \"casual\" ...\n"
          ]
        }
      ]
    },
    {
      "cell_type": "markdown",
      "source": [
        "Looks like we have complete and consistent vector formatting across the datasets. Let's combine all the CSV files into one dataframe"
      ],
      "metadata": {
        "id": "A05CZGWmZYZP"
      }
    },
    {
      "cell_type": "code",
      "source": [
        "%%R\n",
        "\n",
        "all_trips <- bind_rows(Apr_2021, May_2021, Jun_2021, Jul_2021, Aug_2021, Sep_2021, Oct_2021, Nov_2021, Dec_2021, Jan_2022, Feb_2022, Mar_2022, Apr_2022)"
      ],
      "metadata": {
        "id": "0aBPDAYOZsyT"
      },
      "execution_count": 10,
      "outputs": []
    },
    {
      "cell_type": "markdown",
      "source": [
        "**There are a few other problems we need to fix:**\n",
        "\n",
        "In the \"member_casual\" column, there are two names for members (\"member and \"subscriber\") and two names for casual riders (\"Customer\" and \"casual\"). We will need to consolidate that from 4 to 2 labels"
      ],
      "metadata": {
        "id": "Nwkt_Mk-chf6"
      }
    },
    {
      "cell_type": "code",
      "source": [
        "%%R\n",
        "\n",
        "unique(all_trips$member_casual)\n",
        "table(all_trips$member_casual)\n",
        "\n",
        "# In the \"member_casual\" column, replace \"Subscriber\" with \"member\" and \"Customer\" with \"casual\"\n",
        "all_trips <- all_trips %>% \n",
        "  mutate(member_casual = recode(member_casual, \n",
        "                                \"Subscriber\" = \"member\",\n",
        "                                \"Customer\" = \"casual\"))\n",
        "# Lets recheck\n",
        "unique(all_trips$member_casual)\n",
        "table(all_trips$member_casual)"
      ],
      "metadata": {
        "colab": {
          "base_uri": "https://localhost:8080/"
        },
        "id": "5L71NrlmcwAB",
        "outputId": "b6b6480f-fdef-49ca-fb51-d4c8c8ac7d56"
      },
      "execution_count": 11,
      "outputs": [
        {
          "output_type": "stream",
          "name": "stdout",
          "text": [
            "\n",
            " casual  member \n",
            "2672959 3421822 \n"
          ]
        }
      ]
    },
    {
      "cell_type": "markdown",
      "source": [
        "The data as of right now can only be aggregated at the ride-level, which is too granular. We need to be able to zoom out and see additional data by adding additional columns of data -- such as day, month, year -- that provide additional opportunities to aggregate data."
      ],
      "metadata": {
        "id": "q2qfZ7YRdMYr"
      }
    },
    {
      "cell_type": "code",
      "source": [
        "%%R\n",
        "\n",
        "all_trips$date <- as.Date(all_trips$started_at)\n",
        "\n",
        "#Adding year, month, day and day of week column \n",
        "\n",
        "all_trips$year <- format(as.Date(all_trips$date), \"%Y\")\n",
        "all_trips$month <- format(as.Date(all_trips$date), \"%B\")\n",
        "all_trips$day <- format(as.Date(all_trips$date), \"%d\")\n",
        "all_trips$day_of_week <- format(as.Date(all_trips$date), \"%A\")"
      ],
      "metadata": {
        "id": "mAErx-p8dQdU"
      },
      "execution_count": 13,
      "outputs": []
    },
    {
      "cell_type": "markdown",
      "source": [
        "We will want to add a calculated field for length of ride since the datasets did not have the \"tripduration\" column. We will add \"ride_length\" to the entire dataframe for consistency."
      ],
      "metadata": {
        "id": "4XDK1f7ddtIO"
      }
    },
    {
      "cell_type": "code",
      "source": [
        "%%R\n",
        "all_trips$ride_length <- difftime(all_trips$ended_at, all_trips$started_at, \n",
        "                                  units = c(\"secs\"))"
      ],
      "metadata": {
        "id": "HBWG4Fr8dwav"
      },
      "execution_count": 14,
      "outputs": []
    },
    {
      "cell_type": "markdown",
      "source": [
        "There are some rides where \"tripduration\" shows up as negative, including several hundred rides where Divvy took bikes out of circulation for quality control reasons. We will want to delete these rides."
      ],
      "metadata": {
        "id": "V3XZ2MaWhLKF"
      }
    },
    {
      "cell_type": "code",
      "source": [
        "%%R\n",
        "summary(all_trips)\n",
        "sum(all_trips$ride_length < 0) # shows 145 \"ride_length\" values less than 0\n"
      ],
      "metadata": {
        "colab": {
          "base_uri": "https://localhost:8080/"
        },
        "id": "KdyMGEKYgKaY",
        "outputId": "66e26917-14c3-4e71-8247-438b020c49df"
      },
      "execution_count": 24,
      "outputs": [
        {
          "output_type": "stream",
          "name": "stdout",
          "text": [
            "[1] 145\n"
          ]
        }
      ]
    },
    {
      "cell_type": "markdown",
      "source": [
        "These need to be removed from the dataframe and a new dataframe created"
      ],
      "metadata": {
        "id": "yYBLCJp-hbER"
      }
    },
    {
      "cell_type": "code",
      "source": [
        "%%R\n",
        "all_trips_v2 <- all_trips[!(all_trips$ride_length < 0),]"
      ],
      "metadata": {
        "id": "u9bRt8EehfXI"
      },
      "execution_count": 26,
      "outputs": []
    },
    {
      "cell_type": "markdown",
      "source": [
        "So far so good! We have removed the `ride_length` values that don't make sense and cleaned the dataset"
      ],
      "metadata": {
        "id": "28crsrdWh3YZ"
      }
    },
    {
      "cell_type": "markdown",
      "source": [
        "Before starting the analysis lets put the `days_of_week` and `months` in order."
      ],
      "metadata": {
        "id": "JZqN0_W7iKWA"
      }
    },
    {
      "cell_type": "code",
      "source": [
        "%%R\n",
        "\n",
        "# Order the 'day_of_week' & 'month' properly \n",
        "all_trips_v2$day_of_week <- ordered(all_trips_v2$day_of_week, \n",
        "                            levels = c(\"Sunday\", \"Monday\", \"Tuesday\",\n",
        "                                        \"Wednesday\", \"Thursday\", \"Friday\",\n",
        "                                        \"Saturday\"))\n",
        "\n",
        "all_trips_v2$month <- ordered(all_trips_v2$month, \n",
        "                              levels = c(\"January\", \"February\", \"March\", \"April\", \n",
        "                                         \"May\",\"June\", \"July\", \"August\", \n",
        "                                         \"September\", \"October\",\"November\", \n",
        "                                         \"December\"))"
      ],
      "metadata": {
        "id": "cd6wiWMoiTBM"
      },
      "execution_count": 27,
      "outputs": []
    },
    {
      "cell_type": "markdown",
      "source": [
        "Let's analyze bike riding behaviour of Casual riders and Members throughout the week over the course of a year. The table below shows the average ride length of causal riders vs members in seconds. The casual riders ride the bikes for nearly **2.5** times longer than our members!"
      ],
      "metadata": {
        "id": "wIT_KSAHigUJ"
      }
    },
    {
      "cell_type": "code",
      "source": [
        "%%R\n",
        "aggregate(all_trips_v2$ride_length ~ all_trips_v2$member_casual + \n",
        "          all_trips_v2$day_of_week, FUN = mean) \n",
        "          # shows table ordered from Sunday through Saturday as the last \n",
        "          # day of the week"
      ],
      "metadata": {
        "colab": {
          "base_uri": "https://localhost:8080/"
        },
        "id": "ySc4Hd1uipsK",
        "outputId": "8b3b14f5-0e2c-4d07-e3df-85dad6aed54e"
      },
      "execution_count": 28,
      "outputs": [
        {
          "output_type": "stream",
          "name": "stdout",
          "text": [
            "   all_trips_v2$member_casual all_trips_v2$day_of_week all_trips_v2$ride_length\n",
            "1                      casual                   Sunday           2234.1083 secs\n",
            "2                      member                   Sunday            909.8759 secs\n",
            "3                      casual                   Monday           1883.3526 secs\n",
            "4                      member                   Monday            768.8166 secs\n",
            "5                      casual                  Tuesday           1642.7588 secs\n",
            "6                      member                  Tuesday            743.5858 secs\n",
            "7                      casual                Wednesday           1652.3812 secs\n",
            "8                      member                Wednesday            747.8730 secs\n",
            "9                      casual                 Thursday           1666.3465 secs\n",
            "10                     member                 Thursday            748.9650 secs\n",
            "11                     casual                   Friday           1795.6795 secs\n",
            "12                     member                   Friday            778.7939 secs\n",
            "13                     casual                 Saturday           2058.6297 secs\n",
            "14                     member                 Saturday            892.7646 secs\n"
          ]
        }
      ]
    },
    {
      "cell_type": "code",
      "source": [
        "%%R\n",
        "2300 / 60"
      ],
      "metadata": {
        "colab": {
          "base_uri": "https://localhost:8080/"
        },
        "id": "q91IhpFxkAXz",
        "outputId": "147fcc74-2cf0-4bcf-9fb0-a848b53992b3"
      },
      "execution_count": 34,
      "outputs": [
        {
          "output_type": "stream",
          "name": "stdout",
          "text": [
            "[1] 38.33333\n"
          ]
        }
      ]
    },
    {
      "cell_type": "markdown",
      "source": [
        "Let's compare bike-riding behavior between Casual riders and Members on a monthly basis"
      ],
      "metadata": {
        "id": "EF6tnJXWjCE6"
      }
    },
    {
      "cell_type": "code",
      "source": [
        "%%R\n",
        "# Let's save this as a dataframe \"monthly_ridership\"\n",
        "# This will make visualizing easier.\n",
        "monthly_ridership <- all_trips_v2 %>% \n",
        "  group_by(member_casual, month, year) %>% \n",
        "  summarise(monthly_rides = n(), average_monthly_duration = mean(ride_length)) %>% \n",
        "  arrange(year)"
      ],
      "metadata": {
        "colab": {
          "base_uri": "https://localhost:8080/"
        },
        "id": "uZmbsqBGjQZk",
        "outputId": "cf1d9c8c-cce9-4a33-cc2e-c7e939ddfb17"
      },
      "execution_count": 30,
      "outputs": [
        {
          "output_type": "stream",
          "name": "stdout",
          "text": [
            "`summarise()` has grouped output by 'member_casual', 'month'. You can override\n",
            "using the `.groups` argument.\n"
          ]
        }
      ]
    },
    {
      "cell_type": "markdown",
      "source": [
        "Then rider length by member type over the course of a week"
      ],
      "metadata": {
        "id": "RvV-RWryja_W"
      }
    },
    {
      "cell_type": "code",
      "source": [
        "%%R\n",
        "# Let's save this as a dataframe under \"ridership_data_by_membertype_and_weekday\". \n",
        "ridership_data_by_membertype_and_weekday <- all_trips_v2 %>% \n",
        "  mutate(weekday = wday(started_at, label = TRUE)) %>%\n",
        "  group_by(member_casual, weekday) %>% \n",
        "  summarise(number_of_ride = n(), average_duration =  mean(ride_length)) %>%  \n",
        "  arrange(member_casual, weekday)"
      ],
      "metadata": {
        "colab": {
          "base_uri": "https://localhost:8080/"
        },
        "id": "Gz4IlNYBjfxj",
        "outputId": "8f5d2c10-8451-492e-dc48-8e8e75f67102"
      },
      "execution_count": 32,
      "outputs": [
        {
          "output_type": "stream",
          "name": "stdout",
          "text": [
            "`summarise()` has grouped output by 'member_casual'. You can override using the\n",
            "`.groups` argument.\n"
          ]
        }
      ]
    },
    {
      "cell_type": "markdown",
      "source": [
        "Looking at these analyses there is a general trend between our 2 types of customers. Our members consistently have shorter ride times over our casual riders who are buying either single trip pass or a day trip pass. Members tend to have short rides betweeen places, **on average bike rides for members are about 15 mins. While casual riders tend to ride on average for about 35 - 40 mins.**\n",
        "\n",
        "There is an opportunity to sell annual membership to casual riders as a cost-saving option. Casual riders who make make multiple weekly trips can save by opting into the annual membership."
      ],
      "metadata": {
        "id": "cnKl6bwnjr99"
      }
    },
    {
      "cell_type": "markdown",
      "source": [
        "Looking at the visuals below, it is clear that our members tend to have shorter rides and casual riders tend to have longer rides.\n",
        "Causal riders are paying for a single trip or a day pass, which cost\n",
        "\n",
        "$3.30/ride + 0.15*minute\n",
        "\n",
        "OR \n",
        "\n",
        "$15.00 for a day pass\n",
        "\n",
        "Members are very consistent and direct with there bike rides while casual riders have a very sporadic behaviour, with more dependency on the climate, weather and day of the week"
      ],
      "metadata": {
        "id": "xYzqLHu3lWyt"
      }
    },
    {
      "cell_type": "markdown",
      "source": [
        "## Visualizations"
      ],
      "metadata": {
        "id": "BLT-NObIlg_t"
      }
    },
    {
      "cell_type": "code",
      "source": [
        "%%R\n",
        "ggplot(monthly_ridership, aes(x = month,y = average_monthly_duration, \n",
        "                          fill = member_casual)) + \n",
        "  geom_col(position = \"dodge\") + facet_grid(~ year, scales = \"free\", \n",
        "                                            space = \"free\") +\n",
        "  labs(title = \"Average Time Spent Month to Month\", x = \"Month\", \n",
        "       y = \"Ride Time (seconds)\", fill = \"Member Type\",\n",
        "       caption = \"Ridership from Apr 2021 - Apr 2022\") +\n",
        "  theme(plot.title = element_text(hjust = 0.5), \n",
        "        axis.text.x = element_text(angle = 90, vjust = 0.5, hjust = 1), \n",
        "        axis.line = element_line(colour = 'black', size = 0.5, linetype = 'solid')) +\n",
        "  scale_y_continuous(limits = c(0,3500), breaks = seq(0,3500,500))"
      ],
      "metadata": {
        "colab": {
          "base_uri": "https://localhost:8080/",
          "height": 497
        },
        "id": "zn2Cfd2Zmp4u",
        "outputId": "c2dd74bc-d9a9-46fd-fdc9-a17b521f376e"
      },
      "execution_count": 40,
      "outputs": [
        {
          "output_type": "display_data",
          "data": {
            "image/png": "[encoded data removed]"
          },
          "metadata": {}
        }
      ]
    },
    {
      "cell_type": "code",
      "source": [
        "%%R\n",
        "ggplot(monthly_ridership, aes(x = month, y = monthly_rides, fill = member_casual)) +\n",
        "  geom_col(position = \"dodge\") + \n",
        "  facet_grid(~year, scales = \"free\", space = \"free\") +\n",
        "  labs(title = \"Monthly Ridership\", x = \"Month\", \n",
        "      y = \"Number of Riders\", fill = \"Member Type\",\n",
        "      caption = \"Ridership from Apr 2021 - Apr 2022\") +\n",
        "  theme(plot.title = element_text(hjust = 0.5), \n",
        "        axis.text.x = element_text(angle = 90, vjust = 0.5, hjust = 1), \n",
        "        axis.line = element_line(colour = 'black', size = 0.5, linetype = 'solid')) +\n",
        "  scale_y_continuous(limits = c(0,410000), breaks = seq(0,410000,25000))"
      ],
      "metadata": {
        "colab": {
          "base_uri": "https://localhost:8080/",
          "height": 497
        },
        "id": "Fi-n3Cg6nU6z",
        "outputId": "2d899e73-ebb7-4d0b-f773-90160c3fcc9d"
      },
      "execution_count": 41,
      "outputs": [
        {
          "output_type": "display_data",
          "data": {
            "image/png": "[encoded data removed]"
          },
          "metadata": {}
        }
      ]
    },
    {
      "cell_type": "code",
      "source": [
        "%%R\n",
        "ggplot(ridership_data_by_membertype_and_weekday, \n",
        "       mapping = aes(x = weekday, y = number_of_ride, fill = member_casual)) +\n",
        "  geom_col(position = \"dodge\") + \n",
        "  labs(title = \"Ridership During the week\", x = \"Day of Week\", \n",
        "       y = \"Number of Riders\", fill = \"Member Type\", \n",
        "       caption = \"Ridership from Apr 2021 to Apr 2022\") +\n",
        "  theme(plot.title = element_text(hjust = 0.5), axis.line = \n",
        "          element_line(colour = 'black', size = 0.5, linetype = 'solid')) +\n",
        "  scale_y_continuous(limits = c(0,510000), breaks = seq(0,510000,25000))"
      ],
      "metadata": {
        "colab": {
          "base_uri": "https://localhost:8080/",
          "height": 497
        },
        "id": "RqeNkf4KnvKz",
        "outputId": "e1c2d98d-e2c0-43a1-c4c1-aa7fc8f0e0ef"
      },
      "execution_count": 43,
      "outputs": [
        {
          "output_type": "display_data",
          "data": {
            "image/png": "[encoded data removed]"
          },
          "metadata": {}
        }
      ]
    },
    {
      "cell_type": "code",
      "source": [
        "%%R\n",
        "ggplot(ridership_data_by_membertype_and_weekday,\n",
        "       aes(x = weekday, y = average_duration, fill = member_casual)) + \n",
        "  geom_col(position = \"dodge\") +\n",
        "  labs(title = \"Average Ride Time\", x = \"Day of Week\", \n",
        "       y = \"Ride Time (Seconds)\", fill = \"Member Type\", \n",
        "       caption = \"Ridership from Apr 2021 - Apr 2022\") +\n",
        "  theme(plot.title = element_text(hjust = 0.5), \n",
        "        axis.line = element_line(colour = 'black', \n",
        "                                 size = 0.5, linetype = 'solid')) +\n",
        "  scale_y_continuous(limits = c(0,4000), breaks = seq(0,4000,250))"
      ],
      "metadata": {
        "colab": {
          "base_uri": "https://localhost:8080/",
          "height": 497
        },
        "id": "B1xy5zOmn948",
        "outputId": "5beb5a60-58ac-42ad-cddc-ce881e481ad9"
      },
      "execution_count": 44,
      "outputs": [
        {
          "output_type": "display_data",
          "data": {
            "image/png": "[encoded data removed]"
          },
          "metadata": {}
        }
      ]
    },
    {
      "cell_type": "markdown",
      "source": [
        "## Conclusion\n",
        "\n",
        "In conclusion, according to the analysis, Cyclistic has a strong userbase that tend to use our bike sharing program. Our members follow a seasonal riding pattern due to cold winter months. However, although lower, the turn out is consistent over the winter months amongst our members, unlike our casual riders who tend to decrease from November to February.\n",
        "\n",
        "This isn't a big surprise as Chicago has a seasonal tourism industry which tends to die down in late fall and winter and starts picking up in the spring. \n",
        "\n",
        "I would suggest that for our casual customers we have 2 set of rates during the year. From beginning of March to end of October we have one set of rates and from November to February we lower our rates to increase income during the winter months.\n",
        "\n",
        "Casual riders tend to ride bikes 2.5 times longer than our members. Implemeting a higher cost per mintue at a lower time allotment for single tirps than our current pricing would incentivise casual riders that buy multiple single trip and or day trip passes over the course of a month. Currently our pricing for a single trip is:\n",
        "3.30\n",
        "/\n",
        "30 minutes\n",
        "+\n",
        "0.15 per extra minute\n",
        "\n",
        "We should lower either the time limit for the single trip to 20 minutes or increase the cost per minute so the casual riders see the benefit of getting a membership than paying for multiple single trips over a week/month\n",
        "\n",
        "Having additional information like distance a bike is riden per trip would help make decisions more concrete. Knowing how and where the bikes are being riden the most during the year can help us allocate more bike stands in those areas\n",
        "\n"
      ],
      "metadata": {
        "id": "QDjqG2txoJCh"
      }
    }
  ]
}